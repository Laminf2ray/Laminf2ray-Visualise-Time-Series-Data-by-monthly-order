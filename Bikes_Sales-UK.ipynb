{
 "cells": [
  {
   "cell_type": "markdown",
   "id": "daaabb21",
   "metadata": {},
   "source": [
    "   <h1> Visualising Time Series Data </h1> "
   ]
  },
  {
   "cell_type": "markdown",
   "id": "0e0b47eb",
   "metadata": {},
   "source": [
    "<h2>Import Modules</h2>"
   ]
  },
  {
   "cell_type": "code",
   "execution_count": 42,
   "id": "26cb7bd2",
   "metadata": {},
   "outputs": [],
   "source": [
    "from datetime import datetime\n",
    "import pyodbc # for commecting to sql\n",
    "import pandas as pd\n",
    "import numpy as np\n",
    "import seaborn as sns # gives better plots\n",
    "sns.set(rc={'figure.figsize':(11, 4)})\n",
    "import matplotlib.pyplot as plt\n",
    "import warnings\n",
    "warnings.filterwarnings(\"ignore\")"
   ]
  },
  {
   "cell_type": "markdown",
   "id": "a3f301b5",
   "metadata": {},
   "source": [
    "<h2>Connect to SQL</h2>"
   ]
  },
  {
   "cell_type": "code",
   "execution_count": 43,
   "id": "f105ebab",
   "metadata": {},
   "outputs": [],
   "source": [
    "# establish an open connection to SQL\n",
    "conn = pyodbc.connect('Driver={SQL Server};'\n",
    "                      'Server=Your-Server-Name-here;'\n",
    "                      'Database=AdventureWorks2012;'\n",
    "                      'Trusted_Connection=yes;')"
   ]
  },
  {
   "cell_type": "markdown",
   "id": "c44f8d5b",
   "metadata": {},
   "source": [
    "<h2> Import dataset </h2>"
   ]
  },
  {
   "cell_type": "code",
   "execution_count": 103,
   "id": "622fd543",
   "metadata": {},
   "outputs": [],
   "source": [
    "MonthlySales = pd.read_sql_query(\"\"\"\n",
    "select \n",
    "\t  DATENAME(YEAR, SOH.OrderDate) as SalesYear,\n",
    "\t  dateName(Month, SOH.OrderDate) as SalesMonths,\n",
    "\t  PC.Name as ProductName,\n",
    "\t  ST.Name as Country,\n",
    "\t sum(cast((SOD.UnitPrice * SOD.OrderQty)AS DECIMAL(10,2))) as [Total Sales]\n",
    "  FROM [AdventureWorks2012].[Sales].[SalesOrderHeader] SOH\n",
    "  left join [Sales].[SalesOrderDetail] SOD \n",
    "  on SOH.SalesOrderID = SOD.SalesOrderID\n",
    "  left join [Production].[Product] P\n",
    "  on SOD.ProductID = P.ProductID\n",
    "  left join [Production].[ProductSubcategory] PS\n",
    "  on P.ProductSubcategoryID = PS.ProductSubcategoryID\n",
    "  left join [Production].[ProductCategory] PC\n",
    "  on PS.ProductCategoryID = PC.ProductCategoryID\n",
    "  left join [Sales].[SalesTerritory] ST\n",
    "  on SOH.TerritoryID = ST.TerritoryID\n",
    "\n",
    "  where 1 = 1\n",
    "  and SOH.OrderDate between '2013-01-01' and '2013-12-31'\n",
    "  and PC.Name = 'Bikes'\n",
    "  and ST.Name = 'United Kingdom'\n",
    "\n",
    "  group by  DATENAME(YEAR, SOH.OrderDate),dateName(Month, SOH.OrderDate),PC.Name,ST.Name \n",
    "  order by case when dateName(Month, SOH.OrderDate) = 'January' then 1\n",
    "  when dateName(Month, SOH.OrderDate) = 'February' then 2\n",
    "  when dateName(Month, SOH.OrderDate) = 'March' then 3\n",
    "  when dateName(Month, SOH.OrderDate) = 'April' then 4\n",
    "  when dateName(Month, SOH.OrderDate) = 'May' then 5\n",
    "  when dateName(Month, SOH.OrderDate) = 'June' then 6\n",
    "  when dateName(Month, SOH.OrderDate) = 'July' then 7\n",
    "  when dateName(Month, SOH.OrderDate) = 'August' then 8\n",
    "  when dateName(Month, SOH.OrderDate) = 'September' then 9\n",
    "  when dateName(Month, SOH.OrderDate) = 'October' then 10\n",
    "  when dateName(Month, SOH.OrderDate) = 'November' then 11\n",
    "  when dateName(Month, SOH.OrderDate) = 'December' then 12\n",
    "  else NULL end\n",
    "\"\"\", conn)"
   ]
  },
  {
   "cell_type": "markdown",
   "id": "62f66e36",
   "metadata": {},
   "source": [
    "<h2> EDA </h2>"
   ]
  },
  {
   "cell_type": "code",
   "execution_count": 104,
   "id": "2323c504",
   "metadata": {},
   "outputs": [
    {
     "data": {
      "text/html": [
       "<div>\n",
       "<style scoped>\n",
       "    .dataframe tbody tr th:only-of-type {\n",
       "        vertical-align: middle;\n",
       "    }\n",
       "\n",
       "    .dataframe tbody tr th {\n",
       "        vertical-align: top;\n",
       "    }\n",
       "\n",
       "    .dataframe thead th {\n",
       "        text-align: right;\n",
       "    }\n",
       "</style>\n",
       "<table border=\"1\" class=\"dataframe\">\n",
       "  <thead>\n",
       "    <tr style=\"text-align: right;\">\n",
       "      <th></th>\n",
       "      <th>SalesYear</th>\n",
       "      <th>SalesMonths</th>\n",
       "      <th>ProductName</th>\n",
       "      <th>Country</th>\n",
       "      <th>Total Sales</th>\n",
       "    </tr>\n",
       "  </thead>\n",
       "  <tbody>\n",
       "    <tr>\n",
       "      <th>0</th>\n",
       "      <td>2013</td>\n",
       "      <td>January</td>\n",
       "      <td>Bikes</td>\n",
       "      <td>United Kingdom</td>\n",
       "      <td>170928.71</td>\n",
       "    </tr>\n",
       "    <tr>\n",
       "      <th>1</th>\n",
       "      <td>2013</td>\n",
       "      <td>February</td>\n",
       "      <td>Bikes</td>\n",
       "      <td>United Kingdom</td>\n",
       "      <td>92512.67</td>\n",
       "    </tr>\n",
       "    <tr>\n",
       "      <th>2</th>\n",
       "      <td>2013</td>\n",
       "      <td>March</td>\n",
       "      <td>Bikes</td>\n",
       "      <td>United Kingdom</td>\n",
       "      <td>142663.10</td>\n",
       "    </tr>\n",
       "    <tr>\n",
       "      <th>3</th>\n",
       "      <td>2013</td>\n",
       "      <td>April</td>\n",
       "      <td>Bikes</td>\n",
       "      <td>United Kingdom</td>\n",
       "      <td>165719.71</td>\n",
       "    </tr>\n",
       "    <tr>\n",
       "      <th>4</th>\n",
       "      <td>2013</td>\n",
       "      <td>May</td>\n",
       "      <td>Bikes</td>\n",
       "      <td>United Kingdom</td>\n",
       "      <td>172662.79</td>\n",
       "    </tr>\n",
       "  </tbody>\n",
       "</table>\n",
       "</div>"
      ],
      "text/plain": [
       "  SalesYear SalesMonths ProductName         Country  Total Sales\n",
       "0      2013     January       Bikes  United Kingdom    170928.71\n",
       "1      2013    February       Bikes  United Kingdom     92512.67\n",
       "2      2013       March       Bikes  United Kingdom    142663.10\n",
       "3      2013       April       Bikes  United Kingdom    165719.71\n",
       "4      2013         May       Bikes  United Kingdom    172662.79"
      ]
     },
     "execution_count": 104,
     "metadata": {},
     "output_type": "execute_result"
    }
   ],
   "source": [
    "MonthlySales.head()"
   ]
  },
  {
   "cell_type": "code",
   "execution_count": 105,
   "id": "07f34e7c",
   "metadata": {},
   "outputs": [
    {
     "data": {
      "text/plain": [
       "(12, 5)"
      ]
     },
     "execution_count": 105,
     "metadata": {},
     "output_type": "execute_result"
    }
   ],
   "source": [
    "MonthlySales.shape # check the dimention of the data"
   ]
  },
  {
   "cell_type": "markdown",
   "id": "f6d1a88a",
   "metadata": {},
   "source": [
    "The DataFrame has 12 rows, covering the period from January 1, 2013 through December 31, 2013. "
   ]
  },
  {
   "cell_type": "code",
   "execution_count": 106,
   "id": "a4d33240",
   "metadata": {},
   "outputs": [
    {
     "data": {
      "text/plain": [
       "12"
      ]
     },
     "execution_count": 106,
     "metadata": {},
     "output_type": "execute_result"
    }
   ],
   "source": [
    "# no of unique months\n",
    "MonthlySales[\"SalesMonths\"].nunique()"
   ]
  },
  {
   "cell_type": "code",
   "execution_count": 107,
   "id": "27bddce3",
   "metadata": {},
   "outputs": [
    {
     "data": {
      "text/html": [
       "<div>\n",
       "<style scoped>\n",
       "    .dataframe tbody tr th:only-of-type {\n",
       "        vertical-align: middle;\n",
       "    }\n",
       "\n",
       "    .dataframe tbody tr th {\n",
       "        vertical-align: top;\n",
       "    }\n",
       "\n",
       "    .dataframe thead th {\n",
       "        text-align: right;\n",
       "    }\n",
       "</style>\n",
       "<table border=\"1\" class=\"dataframe\">\n",
       "  <thead>\n",
       "    <tr style=\"text-align: right;\">\n",
       "      <th></th>\n",
       "      <th>Total Sales</th>\n",
       "    </tr>\n",
       "  </thead>\n",
       "  <tbody>\n",
       "    <tr>\n",
       "      <th>count</th>\n",
       "      <td>12.000000</td>\n",
       "    </tr>\n",
       "    <tr>\n",
       "      <th>mean</th>\n",
       "      <td>260168.444167</td>\n",
       "    </tr>\n",
       "    <tr>\n",
       "      <th>std</th>\n",
       "      <td>131202.020828</td>\n",
       "    </tr>\n",
       "    <tr>\n",
       "      <th>min</th>\n",
       "      <td>92512.670000</td>\n",
       "    </tr>\n",
       "    <tr>\n",
       "      <th>25%</th>\n",
       "      <td>169626.460000</td>\n",
       "    </tr>\n",
       "    <tr>\n",
       "      <th>50%</th>\n",
       "      <td>242194.085000</td>\n",
       "    </tr>\n",
       "    <tr>\n",
       "      <th>75%</th>\n",
       "      <td>303118.790000</td>\n",
       "    </tr>\n",
       "    <tr>\n",
       "      <th>max</th>\n",
       "      <td>520717.570000</td>\n",
       "    </tr>\n",
       "  </tbody>\n",
       "</table>\n",
       "</div>"
      ],
      "text/plain": [
       "         Total Sales\n",
       "count      12.000000\n",
       "mean   260168.444167\n",
       "std    131202.020828\n",
       "min     92512.670000\n",
       "25%    169626.460000\n",
       "50%    242194.085000\n",
       "75%    303118.790000\n",
       "max    520717.570000"
      ]
     },
     "execution_count": 107,
     "metadata": {},
     "output_type": "execute_result"
    }
   ],
   "source": [
    "MonthlySales.describe()"
   ]
  },
  {
   "cell_type": "markdown",
   "id": "5a20d077",
   "metadata": {},
   "source": [
    "By looking at the above describe(), we can tell the data contain outlier/s"
   ]
  },
  {
   "cell_type": "code",
   "execution_count": 108,
   "id": "0ee5e998",
   "metadata": {},
   "outputs": [
    {
     "data": {
      "text/plain": [
       "SalesYear       object\n",
       "SalesMonths     object\n",
       "ProductName     object\n",
       "Country         object\n",
       "Total Sales    float64\n",
       "dtype: object"
      ]
     },
     "execution_count": 108,
     "metadata": {},
     "output_type": "execute_result"
    }
   ],
   "source": [
    "MonthlySales.dtypes"
   ]
  },
  {
   "cell_type": "code",
   "execution_count": 109,
   "id": "fa35cd4c",
   "metadata": {},
   "outputs": [
    {
     "name": "stdout",
     "output_type": "stream",
     "text": [
      "<class 'pandas.core.frame.DataFrame'>\n",
      "RangeIndex: 12 entries, 0 to 11\n",
      "Data columns (total 5 columns):\n",
      " #   Column       Non-Null Count  Dtype  \n",
      "---  ------       --------------  -----  \n",
      " 0   SalesYear    12 non-null     object \n",
      " 1   SalesMonths  12 non-null     object \n",
      " 2   ProductName  12 non-null     object \n",
      " 3   Country      12 non-null     object \n",
      " 4   Total Sales  12 non-null     float64\n",
      "dtypes: float64(1), object(4)\n",
      "memory usage: 608.0+ bytes\n"
     ]
    }
   ],
   "source": [
    "MonthlySales.info()"
   ]
  },
  {
   "cell_type": "code",
   "execution_count": 110,
   "id": "0221964e",
   "metadata": {},
   "outputs": [
    {
     "data": {
      "text/plain": [
       "<AxesSubplot:xlabel='SalesMonths', ylabel='Total Sales'>"
      ]
     },
     "execution_count": 110,
     "metadata": {},
     "output_type": "execute_result"
    },
    {
     "data": {
      "image/png": "[encoded data removed]",
      "text/plain": [
       "<Figure size 792x288 with 1 Axes>"
      ]
     },
     "metadata": {},
     "output_type": "display_data"
    }
   ],
   "source": [
    "sns.scatterplot(MonthlySales[\"SalesMonths\"],MonthlySales[\"Total Sales\"])"
   ]
  },
  {
   "cell_type": "code",
   "execution_count": 111,
   "id": "9fa291ff",
   "metadata": {},
   "outputs": [
    {
     "data": {
      "text/html": [
       "<div>\n",
       "<style scoped>\n",
       "    .dataframe tbody tr th:only-of-type {\n",
       "        vertical-align: middle;\n",
       "    }\n",
       "\n",
       "    .dataframe tbody tr th {\n",
       "        vertical-align: top;\n",
       "    }\n",
       "\n",
       "    .dataframe thead th {\n",
       "        text-align: right;\n",
       "    }\n",
       "</style>\n",
       "<table border=\"1\" class=\"dataframe\">\n",
       "  <thead>\n",
       "    <tr style=\"text-align: right;\">\n",
       "      <th></th>\n",
       "      <th>SalesYear</th>\n",
       "      <th>SalesMonths</th>\n",
       "      <th>ProductName</th>\n",
       "      <th>Country</th>\n",
       "      <th>Total Sales</th>\n",
       "    </tr>\n",
       "  </thead>\n",
       "  <tbody>\n",
       "    <tr>\n",
       "      <th>0</th>\n",
       "      <td>2013</td>\n",
       "      <td>January</td>\n",
       "      <td>Bikes</td>\n",
       "      <td>United Kingdom</td>\n",
       "      <td>170928.71</td>\n",
       "    </tr>\n",
       "    <tr>\n",
       "      <th>1</th>\n",
       "      <td>2013</td>\n",
       "      <td>February</td>\n",
       "      <td>Bikes</td>\n",
       "      <td>United Kingdom</td>\n",
       "      <td>92512.67</td>\n",
       "    </tr>\n",
       "    <tr>\n",
       "      <th>2</th>\n",
       "      <td>2013</td>\n",
       "      <td>March</td>\n",
       "      <td>Bikes</td>\n",
       "      <td>United Kingdom</td>\n",
       "      <td>142663.10</td>\n",
       "    </tr>\n",
       "    <tr>\n",
       "      <th>3</th>\n",
       "      <td>2013</td>\n",
       "      <td>April</td>\n",
       "      <td>Bikes</td>\n",
       "      <td>United Kingdom</td>\n",
       "      <td>165719.71</td>\n",
       "    </tr>\n",
       "    <tr>\n",
       "      <th>4</th>\n",
       "      <td>2013</td>\n",
       "      <td>May</td>\n",
       "      <td>Bikes</td>\n",
       "      <td>United Kingdom</td>\n",
       "      <td>172662.79</td>\n",
       "    </tr>\n",
       "  </tbody>\n",
       "</table>\n",
       "</div>"
      ],
      "text/plain": [
       "  SalesYear SalesMonths ProductName         Country  Total Sales\n",
       "0      2013     January       Bikes  United Kingdom    170928.71\n",
       "1      2013    February       Bikes  United Kingdom     92512.67\n",
       "2      2013       March       Bikes  United Kingdom    142663.10\n",
       "3      2013       April       Bikes  United Kingdom    165719.71\n",
       "4      2013         May       Bikes  United Kingdom    172662.79"
      ]
     },
     "execution_count": 111,
     "metadata": {},
     "output_type": "execute_result"
    }
   ],
   "source": [
    "#Make a copy of the dataset\n",
    "MonthlySales = MonthlySales.copy()\n",
    "MonthlySales.head()"
   ]
  },
  {
   "cell_type": "markdown",
   "id": "5134b04b",
   "metadata": {},
   "source": [
    "<h2> Data Preprocessing</h2>"
   ]
  },
  {
   "cell_type": "markdown",
   "id": "ceae882a",
   "metadata": {},
   "source": [
    " Indexing with Time Series Data "
   ]
  },
  {
   "cell_type": "code",
   "execution_count": 112,
   "id": "3767bebd",
   "metadata": {},
   "outputs": [
    {
     "data": {
      "text/plain": [
       "Index(['January', 'February', 'March', 'April', 'May', 'June', 'July',\n",
       "       'August', 'September', 'October', 'November', 'December'],\n",
       "      dtype='object', name='SalesMonths')"
      ]
     },
     "execution_count": 112,
     "metadata": {},
     "output_type": "execute_result"
    }
   ],
   "source": [
    "MonthlySales = MonthlySales.set_index('SalesMonths')\n",
    "MonthlySales.index"
   ]
  },
  {
   "cell_type": "code",
   "execution_count": 113,
   "id": "2f94906c",
   "metadata": {},
   "outputs": [
    {
     "data": {
      "text/plain": [
       "SalesYear       object\n",
       "ProductName     object\n",
       "Country         object\n",
       "Total Sales    float64\n",
       "dtype: object"
      ]
     },
     "execution_count": 113,
     "metadata": {},
     "output_type": "execute_result"
    }
   ],
   "source": [
    "MonthlySales.dtypes"
   ]
  },
  {
   "cell_type": "markdown",
   "id": "288b87e5",
   "metadata": {},
   "source": [
    "<h2> Visualising Monthly Bike Sales Time Series Data </h2>"
   ]
  },
  {
   "cell_type": "code",
   "execution_count": 114,
   "id": "0c05cbf1",
   "metadata": {},
   "outputs": [
    {
     "data": {
      "image/png": "[encoded data removed]",
      "text/plain": [
       "<Figure size 792x288 with 1 Axes>"
      ]
     },
     "metadata": {},
     "output_type": "display_data"
    }
   ],
   "source": [
    "#Plot the data\n",
    "MonthlySales.plot(marker='o', linestyle='-')\n",
    "plt.show()"
   ]
  },
  {
   "cell_type": "code",
   "execution_count": null,
   "id": "f5150e6b",
   "metadata": {},
   "outputs": [],
   "source": []
  }
 ],
 "metadata": {
  "kernelspec": {
   "display_name": "Python 3 (ipykernel)",
   "language": "python",
   "name": "python3"
  },
  "language_info": {
   "codemirror_mode": {
    "name": "ipython",
    "version": 3
   },
   "file_extension": ".py",
   "mimetype": "text/x-python",
   "name": "python",
   "nbconvert_exporter": "python",
   "pygments_lexer": "ipython3",
   "version": "3.9.12"
  }
 },
 "nbformat": 4,
 "nbformat_minor": 5
}
